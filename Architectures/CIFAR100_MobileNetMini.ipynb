{
 "cells": [
  {
   "cell_type": "code",
   "execution_count": 1,
   "id": "a0fa6421",
   "metadata": {},
   "outputs": [],
   "source": [
    "import tensorflow as tf\n",
    "import numpy as np\n",
    "import matplotlib.pyplot as plt"
   ]
  },
  {
   "cell_type": "code",
   "execution_count": 2,
   "id": "1b50607f",
   "metadata": {},
   "outputs": [],
   "source": [
    "#%% Prepare dataset\n",
    "\n",
    "# Load dataset\n",
    "(x_train, y_train), (x_test, y_test) = tf.keras.datasets.cifar100.load_data()\n",
    "\n",
    "# Model / data parameters\n",
    "num_classes = len(np.unique(y_train))\n",
    "input_shape = x_train.shape[1::]"
   ]
  },
  {
   "cell_type": "code",
   "execution_count": 3,
   "id": "538fd2c5",
   "metadata": {},
   "outputs": [
    {
     "name": "stdout",
     "output_type": "stream",
     "text": [
      "Model: \"mobilenet\"\n",
      "_________________________________________________________________\n",
      "Layer (type)                 Output Shape              Param #   \n",
      "=================================================================\n",
      "input_1 (InputLayer)         [(None, 32, 32, 3)]       0         \n",
      "_________________________________________________________________\n",
      "depthwise_conv2d (DepthwiseC (None, 32, 32, 3)         30        \n",
      "_________________________________________________________________\n",
      "conv2d (Conv2D)              (None, 32, 32, 24)        96        \n",
      "_________________________________________________________________\n",
      "max_pooling2d (MaxPooling2D) (None, 16, 16, 24)        0         \n",
      "_________________________________________________________________\n",
      "depthwise_conv2d_1 (Depthwis (None, 16, 16, 24)        624       \n",
      "_________________________________________________________________\n",
      "conv2d_1 (Conv2D)            (None, 16, 16, 64)        1600      \n",
      "_________________________________________________________________\n",
      "max_pooling2d_1 (MaxPooling2 (None, 8, 8, 64)          0         \n",
      "_________________________________________________________________\n",
      "depthwise_conv2d_2 (Depthwis (None, 8, 8, 64)          640       \n",
      "_________________________________________________________________\n",
      "conv2d_2 (Conv2D)            (None, 8, 8, 96)          6240      \n",
      "_________________________________________________________________\n",
      "depthwise_conv2d_3 (Depthwis (None, 8, 8, 96)          960       \n",
      "_________________________________________________________________\n",
      "conv2d_3 (Conv2D)            (None, 8, 8, 96)          9312      \n",
      "_________________________________________________________________\n",
      "depthwise_conv2d_4 (Depthwis (None, 8, 8, 96)          960       \n",
      "_________________________________________________________________\n",
      "conv2d_4 (Conv2D)            (None, 8, 8, 64)          6208      \n",
      "_________________________________________________________________\n",
      "max_pooling2d_2 (MaxPooling2 (None, 4, 4, 64)          0         \n",
      "_________________________________________________________________\n",
      "depthwise_conv2d_5 (Depthwis (None, 1, 1, 64)          1088      \n",
      "_________________________________________________________________\n",
      "conv2d_5 (Conv2D)            (None, 1, 1, 512)         33280     \n",
      "_________________________________________________________________\n",
      "dropout (Dropout)            (None, 1, 1, 512)         0         \n",
      "_________________________________________________________________\n",
      "depthwise_conv2d_6 (Depthwis (None, 1, 1, 512)         1024      \n",
      "_________________________________________________________________\n",
      "conv2d_6 (Conv2D)            (None, 1, 1, 512)         262656    \n",
      "_________________________________________________________________\n",
      "dropout_1 (Dropout)          (None, 1, 1, 512)         0         \n",
      "_________________________________________________________________\n",
      "flatten (Flatten)            (None, 512)               0         \n",
      "_________________________________________________________________\n",
      "dense (Dense)                (None, 100)               51300     \n",
      "=================================================================\n",
      "Total params: 376,018\n",
      "Trainable params: 376,018\n",
      "Non-trainable params: 0\n",
      "_________________________________________________________________\n",
      "None\n"
     ]
    }
   ],
   "source": [
    "#%% Create model\n",
    "inputs = tf.keras.Input(shape=input_shape)\n",
    "\n",
    "def MobileNetConv2D(inputs, kernel_size, filters, padding):\n",
    "    x = tf.keras.layers.DepthwiseConv2D(kernel_size=kernel_size, padding=padding)(inputs)\n",
    "    x = tf.keras.layers.Conv2D(filters=filters, kernel_size=(1, 1), activation='relu')(x)\n",
    "    return x\n",
    "\n",
    "x = MobileNetConv2D(inputs, (3, 3), 24, 'same')\n",
    "x = tf.keras.layers.MaxPool2D(pool_size=(2, 2))(x)\n",
    "x = MobileNetConv2D(x, (5, 5), 64, 'same')\n",
    "x = tf.keras.layers.MaxPool2D(pool_size=(2, 2))(x)\n",
    "x = MobileNetConv2D(x, (3, 3), 96, 'same')\n",
    "x = MobileNetConv2D(x, (3, 3), 96, 'same')\n",
    "x = MobileNetConv2D(x, (3, 3), 64, 'same')\n",
    "x = tf.keras.layers.MaxPool2D(pool_size=(2, 2))(x)\n",
    "x = MobileNetConv2D(x, (4, 4), 512, 'valid')\n",
    "x = tf.keras.layers.Dropout(0.4)(x)\n",
    "x = MobileNetConv2D(x, (1, 1), 512, 'same')\n",
    "x = tf.keras.layers.Dropout(0.4)(x)\n",
    "x = tf.keras.layers.Flatten()(x)\n",
    "outputs = tf.keras.layers.Dense(num_classes, activation='softmax')(x)\n",
    "\n",
    "model = tf.keras.Model(inputs=inputs, outputs=outputs, name=\"mobilenet\")\n",
    "\n",
    "model.compile(\n",
    "    loss='sparse_categorical_crossentropy',\n",
    "    optimizer='Adam',\n",
    "    metrics=['accuracy']\n",
    ")\n",
    "\n",
    "\n",
    "print(model.summary())"
   ]
  },
  {
   "cell_type": "code",
   "execution_count": 4,
   "id": "32db877f",
   "metadata": {},
   "outputs": [
    {
     "name": "stdout",
     "output_type": "stream",
     "text": [
      "Epoch 1/50\n",
      "196/196 [==============================] - 10s 23ms/step - loss: 4.5923 - accuracy: 0.0115 - val_loss: 4.3824 - val_accuracy: 0.0298\n",
      "Epoch 2/50\n",
      "196/196 [==============================] - 3s 17ms/step - loss: 4.1320 - accuracy: 0.0526 - val_loss: 3.9122 - val_accuracy: 0.0913\n",
      "Epoch 3/50\n",
      "196/196 [==============================] - 3s 17ms/step - loss: 3.8227 - accuracy: 0.0991 - val_loss: 3.6628 - val_accuracy: 0.1297\n",
      "Epoch 4/50\n",
      "196/196 [==============================] - 3s 17ms/step - loss: 3.6460 - accuracy: 0.1326 - val_loss: 3.4813 - val_accuracy: 0.1647\n",
      "Epoch 5/50\n",
      "196/196 [==============================] - 3s 17ms/step - loss: 3.4829 - accuracy: 0.1601 - val_loss: 3.3535 - val_accuracy: 0.1902\n",
      "Epoch 6/50\n",
      "196/196 [==============================] - 3s 17ms/step - loss: 3.3534 - accuracy: 0.1872 - val_loss: 3.2652 - val_accuracy: 0.2088\n",
      "Epoch 7/50\n",
      "196/196 [==============================] - 3s 17ms/step - loss: 3.2501 - accuracy: 0.2042 - val_loss: 3.1327 - val_accuracy: 0.2327\n",
      "Epoch 8/50\n",
      "196/196 [==============================] - 3s 17ms/step - loss: 3.1591 - accuracy: 0.2201 - val_loss: 3.0554 - val_accuracy: 0.2513\n",
      "Epoch 9/50\n",
      "196/196 [==============================] - 3s 17ms/step - loss: 3.0861 - accuracy: 0.2355 - val_loss: 3.0184 - val_accuracy: 0.2566\n",
      "Epoch 10/50\n",
      "196/196 [==============================] - 3s 17ms/step - loss: 3.0263 - accuracy: 0.2476 - val_loss: 2.9472 - val_accuracy: 0.2703\n",
      "Epoch 11/50\n",
      "196/196 [==============================] - 3s 17ms/step - loss: 2.9752 - accuracy: 0.2567 - val_loss: 2.9230 - val_accuracy: 0.2774\n",
      "Epoch 12/50\n",
      "196/196 [==============================] - 3s 17ms/step - loss: 2.9203 - accuracy: 0.2654 - val_loss: 2.8660 - val_accuracy: 0.2893\n",
      "Epoch 13/50\n",
      "196/196 [==============================] - 3s 17ms/step - loss: 2.8796 - accuracy: 0.2753 - val_loss: 2.8514 - val_accuracy: 0.2983\n",
      "Epoch 14/50\n",
      "196/196 [==============================] - 3s 17ms/step - loss: 2.8355 - accuracy: 0.2844 - val_loss: 2.8202 - val_accuracy: 0.2989\n",
      "Epoch 15/50\n",
      "196/196 [==============================] - 3s 17ms/step - loss: 2.7971 - accuracy: 0.2898 - val_loss: 2.7977 - val_accuracy: 0.3054\n",
      "Epoch 16/50\n",
      "196/196 [==============================] - 3s 17ms/step - loss: 2.7679 - accuracy: 0.2940 - val_loss: 2.7663 - val_accuracy: 0.3080\n",
      "Epoch 17/50\n",
      "196/196 [==============================] - 3s 17ms/step - loss: 2.7285 - accuracy: 0.3038 - val_loss: 2.7322 - val_accuracy: 0.3128\n",
      "Epoch 18/50\n",
      "196/196 [==============================] - 3s 17ms/step - loss: 2.6954 - accuracy: 0.3113 - val_loss: 2.7277 - val_accuracy: 0.3159\n",
      "Epoch 19/50\n",
      "196/196 [==============================] - 3s 17ms/step - loss: 2.6641 - accuracy: 0.3162 - val_loss: 2.7293 - val_accuracy: 0.3148\n",
      "Epoch 20/50\n",
      "196/196 [==============================] - 3s 17ms/step - loss: 2.6398 - accuracy: 0.3212 - val_loss: 2.6984 - val_accuracy: 0.3236\n",
      "Epoch 21/50\n",
      "196/196 [==============================] - 3s 17ms/step - loss: 2.6065 - accuracy: 0.3251 - val_loss: 2.6972 - val_accuracy: 0.3197\n",
      "Epoch 22/50\n",
      "196/196 [==============================] - 3s 17ms/step - loss: 2.5846 - accuracy: 0.3299 - val_loss: 2.6731 - val_accuracy: 0.3295\n",
      "Epoch 23/50\n",
      "196/196 [==============================] - 3s 17ms/step - loss: 2.5638 - accuracy: 0.3368 - val_loss: 2.6541 - val_accuracy: 0.3315\n",
      "Epoch 24/50\n",
      "196/196 [==============================] - 3s 17ms/step - loss: 2.5358 - accuracy: 0.3402 - val_loss: 2.6429 - val_accuracy: 0.3348\n",
      "Epoch 25/50\n",
      "196/196 [==============================] - 3s 17ms/step - loss: 2.5250 - accuracy: 0.3433 - val_loss: 2.6438 - val_accuracy: 0.3347\n",
      "Epoch 26/50\n",
      "196/196 [==============================] - 3s 17ms/step - loss: 2.4833 - accuracy: 0.3516 - val_loss: 2.6447 - val_accuracy: 0.3380\n",
      "Epoch 27/50\n",
      "196/196 [==============================] - 3s 17ms/step - loss: 2.4657 - accuracy: 0.3538 - val_loss: 2.6295 - val_accuracy: 0.3420\n",
      "Epoch 28/50\n",
      "196/196 [==============================] - 3s 17ms/step - loss: 2.4471 - accuracy: 0.3556 - val_loss: 2.6255 - val_accuracy: 0.3383\n",
      "Epoch 29/50\n",
      "196/196 [==============================] - 3s 17ms/step - loss: 2.4250 - accuracy: 0.3623 - val_loss: 2.6096 - val_accuracy: 0.3449\n",
      "Epoch 30/50\n",
      "196/196 [==============================] - 3s 18ms/step - loss: 2.4137 - accuracy: 0.3651 - val_loss: 2.5962 - val_accuracy: 0.3507\n",
      "Epoch 31/50\n",
      "196/196 [==============================] - 3s 17ms/step - loss: 2.3983 - accuracy: 0.3669 - val_loss: 2.5981 - val_accuracy: 0.3500\n",
      "Epoch 32/50\n",
      "196/196 [==============================] - 3s 17ms/step - loss: 2.3768 - accuracy: 0.3701 - val_loss: 2.5859 - val_accuracy: 0.3514\n",
      "Epoch 33/50\n",
      "196/196 [==============================] - 3s 17ms/step - loss: 2.3547 - accuracy: 0.3751 - val_loss: 2.5969 - val_accuracy: 0.3483\n",
      "Epoch 34/50\n",
      "196/196 [==============================] - 3s 17ms/step - loss: 2.3379 - accuracy: 0.3805 - val_loss: 2.5822 - val_accuracy: 0.3493\n",
      "Epoch 35/50\n",
      "196/196 [==============================] - 3s 17ms/step - loss: 2.3175 - accuracy: 0.3828 - val_loss: 2.5710 - val_accuracy: 0.3568\n",
      "Epoch 36/50\n",
      "196/196 [==============================] - 3s 17ms/step - loss: 2.3155 - accuracy: 0.3821 - val_loss: 2.6042 - val_accuracy: 0.3489\n",
      "Epoch 37/50\n",
      "196/196 [==============================] - 3s 18ms/step - loss: 2.2908 - accuracy: 0.3881 - val_loss: 2.5805 - val_accuracy: 0.3535\n",
      "Epoch 38/50\n",
      "196/196 [==============================] - 3s 17ms/step - loss: 2.2757 - accuracy: 0.3923 - val_loss: 2.5850 - val_accuracy: 0.3515\n",
      "Epoch 39/50\n",
      "196/196 [==============================] - 3s 17ms/step - loss: 2.2658 - accuracy: 0.3960 - val_loss: 2.5538 - val_accuracy: 0.3580\n",
      "Epoch 40/50\n",
      "196/196 [==============================] - 3s 17ms/step - loss: 2.2518 - accuracy: 0.3954 - val_loss: 2.5795 - val_accuracy: 0.3577\n",
      "Epoch 41/50\n",
      "196/196 [==============================] - 3s 18ms/step - loss: 2.2258 - accuracy: 0.4023 - val_loss: 2.5673 - val_accuracy: 0.3572\n",
      "Epoch 42/50\n",
      "196/196 [==============================] - 3s 17ms/step - loss: 2.2181 - accuracy: 0.4010 - val_loss: 2.5716 - val_accuracy: 0.3593\n",
      "Epoch 43/50\n",
      "196/196 [==============================] - 3s 17ms/step - loss: 2.2106 - accuracy: 0.4038 - val_loss: 2.5537 - val_accuracy: 0.3622\n",
      "Epoch 44/50\n",
      "196/196 [==============================] - 3s 17ms/step - loss: 2.1939 - accuracy: 0.4056 - val_loss: 2.5471 - val_accuracy: 0.3616\n",
      "Epoch 45/50\n",
      "196/196 [==============================] - 3s 17ms/step - loss: 2.1927 - accuracy: 0.4079 - val_loss: 2.5682 - val_accuracy: 0.3594\n",
      "Epoch 46/50\n",
      "196/196 [==============================] - 3s 17ms/step - loss: 2.1767 - accuracy: 0.4112 - val_loss: 2.5561 - val_accuracy: 0.3632\n",
      "Epoch 47/50\n",
      "196/196 [==============================] - 3s 17ms/step - loss: 2.1680 - accuracy: 0.4118 - val_loss: 2.5713 - val_accuracy: 0.3587\n",
      "Epoch 48/50\n",
      "196/196 [==============================] - 3s 17ms/step - loss: 2.1488 - accuracy: 0.4160 - val_loss: 2.5661 - val_accuracy: 0.3656\n",
      "Epoch 49/50\n",
      "196/196 [==============================] - 3s 17ms/step - loss: 2.1457 - accuracy: 0.4188 - val_loss: 2.5534 - val_accuracy: 0.3586\n"
     ]
    }
   ],
   "source": [
    "#%% Train model\n",
    "\n",
    "batch_size = 256\n",
    "epochs = 50\n",
    "\n",
    "earlystop = tf.keras.callbacks.EarlyStopping(\n",
    "    monitor='val_loss', \n",
    "    patience=5, \n",
    "    restore_best_weights=True\n",
    ")\n",
    "\n",
    "history = model.fit(x_train, \n",
    "                    y_train, \n",
    "                    batch_size=batch_size, \n",
    "                    epochs=epochs, \n",
    "                    callbacks=[earlystop],\n",
    "                    use_multiprocessing=True,\n",
    "                    validation_data=(x_test, y_test))"
   ]
  },
  {
   "cell_type": "code",
   "execution_count": 5,
   "id": "ca70350c",
   "metadata": {},
   "outputs": [
    {
     "data": {
      "text/plain": [
       "<matplotlib.legend.Legend at 0x1fbd4057f40>"
      ]
     },
     "execution_count": 5,
     "metadata": {},
     "output_type": "execute_result"
    },
    {
     "data": {
      "image/png": "[encoded data removed]",
      "text/plain": [
       "<Figure size 432x288 with 2 Axes>"
      ]
     },
     "metadata": {
      "needs_background": "light"
     },
     "output_type": "display_data"
    }
   ],
   "source": [
    "#%% Model visualization\n",
    "plt.figure()\n",
    "plt.subplot(2, 1, 1)\n",
    "plt.grid()\n",
    "plt.plot(history.history['loss'], '--x')\n",
    "plt.plot(history.history['val_loss'], '--x')\n",
    "plt.legend(['Train', 'Validation'])\n",
    "plt.subplot(2, 1, 2)\n",
    "plt.grid()\n",
    "plt.plot(history.history['accuracy'], '--x')\n",
    "plt.plot(history.history['val_accuracy'], '--x')\n",
    "plt.legend(['Train', 'Validation'])"
   ]
  },
  {
   "cell_type": "code",
   "execution_count": 6,
   "id": "0a5884d3",
   "metadata": {},
   "outputs": [
    {
     "name": "stdout",
     "output_type": "stream",
     "text": [
      "313/313 [==============================] - 2s 4ms/step - loss: 2.5471 - accuracy: 0.3616\n",
      "Test accuracy: 36.16%\n"
     ]
    }
   ],
   "source": [
    "#%% Model evaluation\n",
    "result = model.evaluate(x_test, y_test)\n",
    "print(\"Test accuracy: {:.2f}%\".format(result[1]*100))"
   ]
  },
  {
   "cell_type": "code",
   "execution_count": null,
   "id": "0430c3bc",
   "metadata": {},
   "outputs": [],
   "source": []
  }
 ],
 "metadata": {
  "kernelspec": {
   "display_name": "Python 3 (ipykernel)",
   "language": "python",
   "name": "python3"
  },
  "language_info": {
   "codemirror_mode": {
    "name": "ipython",
    "version": 3
   },
   "file_extension": ".py",
   "mimetype": "text/x-python",
   "name": "python",
   "nbconvert_exporter": "python",
   "pygments_lexer": "ipython3",
   "version": "3.9.7"
  }
 },
 "nbformat": 4,
 "nbformat_minor": 5
}
