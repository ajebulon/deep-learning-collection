{
 "cells": [
  {
   "cell_type": "code",
   "execution_count": 1,
   "id": "265803d4",
   "metadata": {},
   "outputs": [],
   "source": [
    "import tensorflow as tf\n",
    "import numpy as np\n",
    "import matplotlib.pyplot as plt"
   ]
  },
  {
   "cell_type": "code",
   "execution_count": 2,
   "id": "8e5a2206",
   "metadata": {},
   "outputs": [],
   "source": [
    "#%% Prepare dataset\n",
    "\n",
    "# Load dataset\n",
    "(x_train, y_train), (x_test, y_test) = tf.keras.datasets.mnist.load_data()\n",
    "\n",
    "# Reshape\n",
    "x_train = np.expand_dims(x_train, axis=-1)\n",
    "x_test = np.expand_dims(x_test, axis=-1)\n",
    "\n",
    "# Model / data parameters\n",
    "num_classes = len(np.unique(y_train))\n",
    "input_shape = x_train.shape[1::]"
   ]
  },
  {
   "cell_type": "code",
   "execution_count": 3,
   "id": "98d590db",
   "metadata": {},
   "outputs": [
    {
     "name": "stdout",
     "output_type": "stream",
     "text": [
      "Model: \"inception\"\n",
      "__________________________________________________________________________________________________\n",
      "Layer (type)                    Output Shape         Param #     Connected to                     \n",
      "==================================================================================================\n",
      "input_1 (InputLayer)            [(None, 28, 28, 1)]  0                                            \n",
      "__________________________________________________________________________________________________\n",
      "conv2d (Conv2D)                 (None, 28, 28, 32)   1600        input_1[0][0]                    \n",
      "__________________________________________________________________________________________________\n",
      "max_pooling2d (MaxPooling2D)    (None, 28, 28, 32)   0           conv2d[0][0]                     \n",
      "__________________________________________________________________________________________________\n",
      "conv2d_1 (Conv2D)               (None, 28, 28, 32)   1056        max_pooling2d[0][0]              \n",
      "__________________________________________________________________________________________________\n",
      "conv2d_2 (Conv2D)               (None, 28, 28, 96)   27744       conv2d_1[0][0]                   \n",
      "__________________________________________________________________________________________________\n",
      "max_pooling2d_1 (MaxPooling2D)  (None, 28, 28, 96)   0           conv2d_2[0][0]                   \n",
      "__________________________________________________________________________________________________\n",
      "conv2d_4 (Conv2D)               (None, 28, 28, 64)   6208        max_pooling2d_1[0][0]            \n",
      "__________________________________________________________________________________________________\n",
      "conv2d_6 (Conv2D)               (None, 28, 28, 16)   1552        max_pooling2d_1[0][0]            \n",
      "__________________________________________________________________________________________________\n",
      "max_pooling2d_2 (MaxPooling2D)  (None, 28, 28, 96)   0           max_pooling2d_1[0][0]            \n",
      "__________________________________________________________________________________________________\n",
      "conv2d_3 (Conv2D)               (None, 28, 28, 32)   3104        max_pooling2d_1[0][0]            \n",
      "__________________________________________________________________________________________________\n",
      "conv2d_5 (Conv2D)               (None, 28, 28, 48)   27696       conv2d_4[0][0]                   \n",
      "__________________________________________________________________________________________________\n",
      "conv2d_7 (Conv2D)               (None, 28, 28, 8)    3208        conv2d_6[0][0]                   \n",
      "__________________________________________________________________________________________________\n",
      "conv2d_8 (Conv2D)               (None, 28, 28, 16)   1552        max_pooling2d_2[0][0]            \n",
      "__________________________________________________________________________________________________\n",
      "concatenate (Concatenate)       (None, 28, 28, 104)  0           conv2d_3[0][0]                   \n",
      "                                                                 conv2d_5[0][0]                   \n",
      "                                                                 conv2d_7[0][0]                   \n",
      "                                                                 conv2d_8[0][0]                   \n",
      "__________________________________________________________________________________________________\n",
      "conv2d_10 (Conv2D)              (None, 28, 28, 96)   10080       concatenate[0][0]                \n",
      "__________________________________________________________________________________________________\n",
      "conv2d_12 (Conv2D)              (None, 28, 28, 48)   5040        concatenate[0][0]                \n",
      "__________________________________________________________________________________________________\n",
      "max_pooling2d_3 (MaxPooling2D)  (None, 28, 28, 104)  0           concatenate[0][0]                \n",
      "__________________________________________________________________________________________________\n",
      "conv2d_9 (Conv2D)               (None, 28, 28, 64)   6720        concatenate[0][0]                \n",
      "__________________________________________________________________________________________________\n",
      "conv2d_11 (Conv2D)              (None, 28, 28, 64)   55360       conv2d_10[0][0]                  \n",
      "__________________________________________________________________________________________________\n",
      "conv2d_13 (Conv2D)              (None, 28, 28, 16)   19216       conv2d_12[0][0]                  \n",
      "__________________________________________________________________________________________________\n",
      "conv2d_14 (Conv2D)              (None, 28, 28, 32)   3360        max_pooling2d_3[0][0]            \n",
      "__________________________________________________________________________________________________\n",
      "concatenate_1 (Concatenate)     (None, 28, 28, 176)  0           conv2d_9[0][0]                   \n",
      "                                                                 conv2d_11[0][0]                  \n",
      "                                                                 conv2d_13[0][0]                  \n",
      "                                                                 conv2d_14[0][0]                  \n",
      "__________________________________________________________________________________________________\n",
      "max_pooling2d_4 (MaxPooling2D)  (None, 14, 14, 176)  0           concatenate_1[0][0]              \n",
      "__________________________________________________________________________________________________\n",
      "conv2d_16 (Conv2D)              (None, 14, 14, 104)  18408       max_pooling2d_4[0][0]            \n",
      "__________________________________________________________________________________________________\n",
      "conv2d_18 (Conv2D)              (None, 14, 14, 24)   4248        max_pooling2d_4[0][0]            \n",
      "__________________________________________________________________________________________________\n",
      "max_pooling2d_5 (MaxPooling2D)  (None, 14, 14, 176)  0           max_pooling2d_4[0][0]            \n",
      "__________________________________________________________________________________________________\n",
      "conv2d_15 (Conv2D)              (None, 14, 14, 96)   16992       max_pooling2d_4[0][0]            \n",
      "__________________________________________________________________________________________________\n",
      "conv2d_17 (Conv2D)              (None, 14, 14, 48)   44976       conv2d_16[0][0]                  \n",
      "__________________________________________________________________________________________________\n",
      "conv2d_19 (Conv2D)              (None, 14, 14, 8)    4808        conv2d_18[0][0]                  \n",
      "__________________________________________________________________________________________________\n",
      "conv2d_20 (Conv2D)              (None, 14, 14, 32)   5664        max_pooling2d_5[0][0]            \n",
      "__________________________________________________________________________________________________\n",
      "concatenate_2 (Concatenate)     (None, 14, 14, 184)  0           conv2d_15[0][0]                  \n",
      "                                                                 conv2d_17[0][0]                  \n",
      "                                                                 conv2d_19[0][0]                  \n",
      "                                                                 conv2d_20[0][0]                  \n",
      "__________________________________________________________________________________________________\n",
      "average_pooling2d (AveragePooli (None, 5, 5, 184)    0           concatenate_2[0][0]              \n",
      "__________________________________________________________________________________________________\n",
      "conv2d_21 (Conv2D)              (None, 5, 5, 64)     11840       average_pooling2d[0][0]          \n",
      "__________________________________________________________________________________________________\n",
      "flatten (Flatten)               (None, 1600)         0           conv2d_21[0][0]                  \n",
      "__________________________________________________________________________________________________\n",
      "dense (Dense)                   (None, 256)          409856      flatten[0][0]                    \n",
      "__________________________________________________________________________________________________\n",
      "dropout (Dropout)               (None, 256)          0           dense[0][0]                      \n",
      "__________________________________________________________________________________________________\n",
      "dense_1 (Dense)                 (None, 10)           2570        dropout[0][0]                    \n",
      "==================================================================================================\n",
      "Total params: 692,858\n",
      "Trainable params: 692,858\n",
      "Non-trainable params: 0\n",
      "__________________________________________________________________________________________________\n",
      "None\n"
     ]
    },
    {
     "data": {
      "image/png": "[encoded data removed]",
      "text/plain": [
       "<Figure size 432x288 with 1 Axes>"
      ]
     },
     "metadata": {
      "needs_background": "light"
     },
     "output_type": "display_data"
    }
   ],
   "source": [
    "#%% Create model\n",
    "\n",
    "inputs = tf.keras.Input(shape=input_shape)\n",
    "\n",
    "def InceptionModule(inputs, f1x1, f3x3, f3x3_reduce, f5x5, f5x5_reduce, fpool):\n",
    "    conv1_1 = tf.keras.layers.Conv2D(f1x1, kernel_size=(1, 1), padding='same', activation='relu')(inputs)\n",
    "    \n",
    "    conv3_1 = tf.keras.layers.Conv2D(f3x3_reduce, kernel_size=(1, 1), padding='same', activation='relu')(inputs)\n",
    "    conv3_1 = tf.keras.layers.Conv2D(f3x3, kernel_size=(3, 3), padding='same', activation='relu')(conv3_1)\n",
    "    \n",
    "    conv5_1 = tf.keras.layers.Conv2D(f5x5_reduce, kernel_size=(1, 1), padding='same', activation='relu')(inputs)\n",
    "    conv5_1 = tf.keras.layers.Conv2D(f5x5, kernel_size=(5, 5), padding='same', activation='relu')(conv5_1)\n",
    "    \n",
    "    pool_1 = tf.keras.layers.MaxPooling2D(pool_size=(2, 2), strides=(1, 1), padding='same')(inputs)\n",
    "    pool_1 = tf.keras.layers.Conv2D(fpool, kernel_size=(1, 1), padding='same', activation='relu')(pool_1)\n",
    "\n",
    "    outputs = tf.keras.layers.Concatenate(axis=-1)([conv1_1, conv3_1, conv5_1, pool_1])\n",
    "    return outputs\n",
    "\n",
    "\n",
    "# Initial layers\n",
    "x = tf.keras.layers.Conv2D(32, (7, 7), padding='same', strides=(1, 1), activation='relu', kernel_initializer=tf.keras.initializers.GlorotUniform())(inputs)\n",
    "x = tf.keras.layers.MaxPooling2D((2, 2), padding='same', strides=(1, 1))(x)\n",
    "x = tf.keras.layers.Conv2D(32, (1, 1), padding='same', strides=(1, 1), activation='relu')(x)\n",
    "x = tf.keras.layers.Conv2D(96, (3, 3), padding='same', strides=(1, 1), activation='relu')(x)\n",
    "x = tf.keras.layers.MaxPooling2D((3, 3), padding='same', strides=(1, 1))(x)\n",
    "\n",
    "# Inception Block 1\n",
    "x = InceptionModule(\n",
    "    x,\n",
    "    f1x1=32,\n",
    "    f3x3=48,\n",
    "    f3x3_reduce=64,\n",
    "    f5x5=8,\n",
    "    f5x5_reduce=16,\n",
    "    fpool=16)\n",
    "\n",
    "x = InceptionModule(\n",
    "    x,\n",
    "    f1x1=64,\n",
    "    f3x3=64,\n",
    "    f3x3_reduce=96,\n",
    "    f5x5=16,\n",
    "    f5x5_reduce=48,\n",
    "    fpool=32)\n",
    "\n",
    "x = tf.keras.layers.MaxPooling2D(pool_size=(2, 2), padding='same')(x)\n",
    "\n",
    "x = InceptionModule(\n",
    "    x,\n",
    "    f1x1=96,\n",
    "    f3x3=48,\n",
    "    f3x3_reduce=104,\n",
    "    f5x5=8,\n",
    "    f5x5_reduce=24,\n",
    "    fpool=32)\n",
    "\n",
    "\n",
    "# Auxillary output 1\n",
    "x = tf.keras.layers.AveragePooling2D((5, 5), strides=2)(x)\n",
    "x = tf.keras.layers.Conv2D(64, (1, 1), padding='same', activation='relu')(x)\n",
    "x = tf.keras.layers.Flatten()(x)\n",
    "x = tf.keras.layers.Dense(256, activation='relu')(x)\n",
    "x = tf.keras.layers.Dropout(0.2)(x)\n",
    "outputs = tf.keras.layers.Dense(num_classes, activation='softmax')(x)\n",
    "\n",
    "model = tf.keras.Model(inputs=inputs, outputs=outputs, name=\"inception\")\n",
    "\n",
    "dot_img_file = 'inceptionmini.png'\n",
    "tf.keras.utils.plot_model(model, to_file=dot_img_file, show_shapes=True)\n",
    "plt.figure()\n",
    "plt.imshow(plt.imread(dot_img_file))\n",
    "\n",
    "# optimizer = tf.keras.optimizers.SGD(learning_rate=0.01, momentum=0.9)\n",
    "model.compile(loss='sparse_categorical_crossentropy',\n",
    "              optimizer='Adam',\n",
    "              # optimizer=optimizer,\n",
    "              metrics=['accuracy'])\n",
    "\n",
    "print(model.summary())"
   ]
  },
  {
   "cell_type": "code",
   "execution_count": 4,
   "id": "5963612c",
   "metadata": {},
   "outputs": [
    {
     "name": "stdout",
     "output_type": "stream",
     "text": [
      "Epoch 1/50\n",
      "235/235 [==============================] - 52s 182ms/step - loss: 0.5091 - accuracy: 0.8607 - val_loss: 0.0726 - val_accuracy: 0.9761\n",
      "Epoch 2/50\n",
      "235/235 [==============================] - 40s 170ms/step - loss: 0.0771 - accuracy: 0.9770 - val_loss: 0.0505 - val_accuracy: 0.9844\n",
      "Epoch 3/50\n",
      "235/235 [==============================] - 40s 170ms/step - loss: 0.0547 - accuracy: 0.9835 - val_loss: 0.0537 - val_accuracy: 0.9811\n",
      "Epoch 4/50\n",
      "235/235 [==============================] - 40s 170ms/step - loss: 0.0432 - accuracy: 0.9872 - val_loss: 0.0325 - val_accuracy: 0.9901\n",
      "Epoch 5/50\n",
      "235/235 [==============================] - 40s 171ms/step - loss: 0.0361 - accuracy: 0.9890 - val_loss: 0.0246 - val_accuracy: 0.9923\n",
      "Epoch 6/50\n",
      "235/235 [==============================] - 40s 171ms/step - loss: 0.0345 - accuracy: 0.9895 - val_loss: 0.0232 - val_accuracy: 0.9924\n",
      "Epoch 7/50\n",
      "235/235 [==============================] - 40s 171ms/step - loss: 0.0283 - accuracy: 0.9910 - val_loss: 0.0251 - val_accuracy: 0.9921\n",
      "Epoch 8/50\n",
      "235/235 [==============================] - 40s 171ms/step - loss: 0.0266 - accuracy: 0.9920 - val_loss: 0.0243 - val_accuracy: 0.9912\n",
      "Epoch 9/50\n",
      "235/235 [==============================] - 40s 171ms/step - loss: 0.0241 - accuracy: 0.9926 - val_loss: 0.0248 - val_accuracy: 0.9926\n",
      "Epoch 10/50\n",
      "235/235 [==============================] - 40s 171ms/step - loss: 0.0238 - accuracy: 0.9923 - val_loss: 0.0216 - val_accuracy: 0.9937\n",
      "Epoch 11/50\n",
      "235/235 [==============================] - 40s 171ms/step - loss: 0.0192 - accuracy: 0.9938 - val_loss: 0.0215 - val_accuracy: 0.9932\n",
      "Epoch 12/50\n",
      "235/235 [==============================] - 40s 171ms/step - loss: 0.0201 - accuracy: 0.9935 - val_loss: 0.0329 - val_accuracy: 0.9887\n",
      "Epoch 13/50\n",
      "235/235 [==============================] - 41s 172ms/step - loss: 0.0204 - accuracy: 0.9934 - val_loss: 0.0240 - val_accuracy: 0.9923\n",
      "Epoch 14/50\n",
      "235/235 [==============================] - 41s 177ms/step - loss: 0.0212 - accuracy: 0.9934 - val_loss: 0.0258 - val_accuracy: 0.9928\n",
      "Epoch 15/50\n",
      "235/235 [==============================] - 41s 174ms/step - loss: 0.0168 - accuracy: 0.9944 - val_loss: 0.0255 - val_accuracy: 0.9914\n",
      "Epoch 16/50\n",
      "235/235 [==============================] - 41s 173ms/step - loss: 0.0162 - accuracy: 0.9946 - val_loss: 0.0268 - val_accuracy: 0.9913\n"
     ]
    }
   ],
   "source": [
    "#%% Train model\n",
    "\n",
    "batch_size = 256\n",
    "epochs = 50\n",
    "\n",
    "earlystop = tf.keras.callbacks.EarlyStopping(\n",
    "    monitor='val_loss', \n",
    "    patience=5, \n",
    "    restore_best_weights=True\n",
    ")\n",
    "\n",
    "history = model.fit(x_train, \n",
    "                    y_train, \n",
    "                    batch_size=batch_size, \n",
    "                    epochs=epochs, \n",
    "                    callbacks=[earlystop],\n",
    "                    use_multiprocessing=True,\n",
    "                    validation_data=(x_test, y_test))"
   ]
  },
  {
   "cell_type": "code",
   "execution_count": 5,
   "id": "15dec7f9",
   "metadata": {},
   "outputs": [
    {
     "data": {
      "text/plain": [
       "<matplotlib.legend.Legend at 0x1a993a45eb0>"
      ]
     },
     "execution_count": 5,
     "metadata": {},
     "output_type": "execute_result"
    },
    {
     "data": {
      "image/png": "[encoded data removed]",
      "text/plain": [
       "<Figure size 432x288 with 2 Axes>"
      ]
     },
     "metadata": {
      "needs_background": "light"
     },
     "output_type": "display_data"
    }
   ],
   "source": [
    "#%% Model visualization\n",
    "plt.figure()\n",
    "plt.subplot(2, 1, 1)\n",
    "plt.grid()\n",
    "plt.plot(history.history['loss'], '--x')\n",
    "plt.plot(history.history['val_loss'], '--x')\n",
    "plt.legend(['Train', 'Validation'])\n",
    "plt.subplot(2, 1, 2)\n",
    "plt.grid()\n",
    "plt.plot(history.history['accuracy'], '--x')\n",
    "plt.plot(history.history['val_accuracy'], '--x')\n",
    "plt.legend(['Train', 'Validation'])"
   ]
  },
  {
   "cell_type": "code",
   "execution_count": 6,
   "id": "970ca59d",
   "metadata": {},
   "outputs": [
    {
     "name": "stdout",
     "output_type": "stream",
     "text": [
      "313/313 [==============================] - 4s 10ms/step - loss: 0.0215 - accuracy: 0.9932\n",
      "Test accuracy: 99.32%\n"
     ]
    }
   ],
   "source": [
    "#%% Model evaluation\n",
    "result = model.evaluate(x_test, y_test)\n",
    "print(\"Test accuracy: {:.2f}%\".format(result[1]*100))"
   ]
  },
  {
   "cell_type": "code",
   "execution_count": null,
   "id": "b26e7ccf",
   "metadata": {},
   "outputs": [],
   "source": []
  }
 ],
 "metadata": {
  "kernelspec": {
   "display_name": "Python 3 (ipykernel)",
   "language": "python",
   "name": "python3"
  },
  "language_info": {
   "codemirror_mode": {
    "name": "ipython",
    "version": 3
   },
   "file_extension": ".py",
   "mimetype": "text/x-python",
   "name": "python",
   "nbconvert_exporter": "python",
   "pygments_lexer": "ipython3",
   "version": "3.8.12"
  }
 },
 "nbformat": 4,
 "nbformat_minor": 5
}
