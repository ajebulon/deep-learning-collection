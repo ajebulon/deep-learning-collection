{
 "cells": [
  {
   "cell_type": "code",
   "execution_count": 1,
   "id": "4998faba",
   "metadata": {},
   "outputs": [],
   "source": [
    "import tensorflow as tf\n",
    "import numpy as np\n",
    "import matplotlib.pyplot as plt"
   ]
  },
  {
   "cell_type": "code",
   "execution_count": 2,
   "id": "431f0d7b",
   "metadata": {},
   "outputs": [],
   "source": [
    "#%% Prepare dataset\n",
    "\n",
    "# Load dataset\n",
    "(x_train, y_train), (x_test, y_test) = tf.keras.datasets.cifar100.load_data()\n",
    "\n",
    "# Model / data parameters\n",
    "num_classes = len(np.unique(y_train))\n",
    "input_shape = x_train.shape[1::]"
   ]
  },
  {
   "cell_type": "code",
   "execution_count": 3,
   "id": "243c20f8",
   "metadata": {},
   "outputs": [
    {
     "name": "stdout",
     "output_type": "stream",
     "text": [
      "Model: \"resnet\"\n",
      "__________________________________________________________________________________________________\n",
      "Layer (type)                    Output Shape         Param #     Connected to                     \n",
      "==================================================================================================\n",
      "input_1 (InputLayer)            [(None, 32, 32, 3)]  0                                            \n",
      "__________________________________________________________________________________________________\n",
      "conv2d (Conv2D)                 (None, 32, 32, 32)   896         input_1[0][0]                    \n",
      "__________________________________________________________________________________________________\n",
      "max_pooling2d (MaxPooling2D)    (None, 16, 16, 32)   0           conv2d[0][0]                     \n",
      "__________________________________________________________________________________________________\n",
      "conv2d_1 (Conv2D)               (None, 16, 16, 32)   9248        max_pooling2d[0][0]              \n",
      "__________________________________________________________________________________________________\n",
      "conv2d_2 (Conv2D)               (None, 16, 16, 32)   9248        conv2d_1[0][0]                   \n",
      "__________________________________________________________________________________________________\n",
      "tf.math.add (TFOpLambda)        (None, 16, 16, 32)   0           max_pooling2d[0][0]              \n",
      "                                                                 conv2d_2[0][0]                   \n",
      "__________________________________________________________________________________________________\n",
      "tf.nn.relu (TFOpLambda)         (None, 16, 16, 32)   0           tf.math.add[0][0]                \n",
      "__________________________________________________________________________________________________\n",
      "conv2d_3 (Conv2D)               (None, 16, 16, 32)   9248        tf.nn.relu[0][0]                 \n",
      "__________________________________________________________________________________________________\n",
      "conv2d_4 (Conv2D)               (None, 16, 16, 32)   9248        conv2d_3[0][0]                   \n",
      "__________________________________________________________________________________________________\n",
      "tf.math.add_1 (TFOpLambda)      (None, 16, 16, 32)   0           tf.nn.relu[0][0]                 \n",
      "                                                                 conv2d_4[0][0]                   \n",
      "__________________________________________________________________________________________________\n",
      "tf.nn.relu_1 (TFOpLambda)       (None, 16, 16, 32)   0           tf.math.add_1[0][0]              \n",
      "__________________________________________________________________________________________________\n",
      "conv2d_5 (Conv2D)               (None, 16, 16, 32)   9248        tf.nn.relu_1[0][0]               \n",
      "__________________________________________________________________________________________________\n",
      "conv2d_6 (Conv2D)               (None, 16, 16, 32)   9248        conv2d_5[0][0]                   \n",
      "__________________________________________________________________________________________________\n",
      "tf.math.add_2 (TFOpLambda)      (None, 16, 16, 32)   0           tf.nn.relu_1[0][0]               \n",
      "                                                                 conv2d_6[0][0]                   \n",
      "__________________________________________________________________________________________________\n",
      "tf.nn.relu_2 (TFOpLambda)       (None, 16, 16, 32)   0           tf.math.add_2[0][0]              \n",
      "__________________________________________________________________________________________________\n",
      "conv2d_7 (Conv2D)               (None, 8, 8, 80)     23120       tf.nn.relu_2[0][0]               \n",
      "__________________________________________________________________________________________________\n",
      "conv2d_8 (Conv2D)               (None, 8, 8, 80)     57680       conv2d_7[0][0]                   \n",
      "__________________________________________________________________________________________________\n",
      "conv2d_9 (Conv2D)               (None, 8, 8, 80)     57680       conv2d_8[0][0]                   \n",
      "__________________________________________________________________________________________________\n",
      "tf.math.add_3 (TFOpLambda)      (None, 8, 8, 80)     0           conv2d_7[0][0]                   \n",
      "                                                                 conv2d_9[0][0]                   \n",
      "__________________________________________________________________________________________________\n",
      "tf.nn.relu_3 (TFOpLambda)       (None, 8, 8, 80)     0           tf.math.add_3[0][0]              \n",
      "__________________________________________________________________________________________________\n",
      "conv2d_10 (Conv2D)              (None, 8, 8, 80)     57680       tf.nn.relu_3[0][0]               \n",
      "__________________________________________________________________________________________________\n",
      "conv2d_11 (Conv2D)              (None, 8, 8, 80)     57680       conv2d_10[0][0]                  \n",
      "__________________________________________________________________________________________________\n",
      "tf.math.add_4 (TFOpLambda)      (None, 8, 8, 80)     0           tf.nn.relu_3[0][0]               \n",
      "                                                                 conv2d_11[0][0]                  \n",
      "__________________________________________________________________________________________________\n",
      "tf.nn.relu_4 (TFOpLambda)       (None, 8, 8, 80)     0           tf.math.add_4[0][0]              \n",
      "__________________________________________________________________________________________________\n",
      "conv2d_12 (Conv2D)              (None, 8, 8, 80)     57680       tf.nn.relu_4[0][0]               \n",
      "__________________________________________________________________________________________________\n",
      "conv2d_13 (Conv2D)              (None, 8, 8, 80)     57680       conv2d_12[0][0]                  \n",
      "__________________________________________________________________________________________________\n",
      "tf.math.add_5 (TFOpLambda)      (None, 8, 8, 80)     0           tf.nn.relu_4[0][0]               \n",
      "                                                                 conv2d_13[0][0]                  \n",
      "__________________________________________________________________________________________________\n",
      "tf.nn.relu_5 (TFOpLambda)       (None, 8, 8, 80)     0           tf.math.add_5[0][0]              \n",
      "__________________________________________________________________________________________________\n",
      "flatten (Flatten)               (None, 5120)         0           tf.nn.relu_5[0][0]               \n",
      "__________________________________________________________________________________________________\n",
      "dropout (Dropout)               (None, 5120)         0           flatten[0][0]                    \n",
      "__________________________________________________________________________________________________\n",
      "dense (Dense)                   (None, 100)          512100      dropout[0][0]                    \n",
      "==================================================================================================\n",
      "Total params: 937,684\n",
      "Trainable params: 937,684\n",
      "Non-trainable params: 0\n",
      "__________________________________________________________________________________________________\n",
      "None\n"
     ]
    }
   ],
   "source": [
    "#%% Create model\n",
    "\n",
    "inputs = tf.keras.Input(shape=input_shape)\n",
    "\n",
    "def ResidualModule(inputs, filters):\n",
    "    conv_1 = tf.keras.layers.Conv2D(filters, kernel_size=(3, 3), padding='same', activation='relu')(inputs)\n",
    "    conv_2 = tf.keras.layers.Conv2D(filters, kernel_size=(3, 3), padding='same', activation='linear')(conv_1)\n",
    "    temp = tf.add(inputs, conv_2)\n",
    "    outputs = tf.nn.relu(temp)\n",
    "    \n",
    "    return outputs\n",
    "\n",
    "\n",
    "# Initial layers\n",
    "x = tf.keras.layers.Conv2D(32, (3, 3), padding='same', activation='relu')(inputs)\n",
    "x = tf.keras.layers.MaxPooling2D((2, 2))(x)\n",
    "\n",
    "# Residual 1\n",
    "x = ResidualModule(x, 32)\n",
    "x = ResidualModule(x, 32)\n",
    "x = ResidualModule(x, 32)\n",
    "\n",
    "# Residual 2\n",
    "x = tf.keras.layers.Conv2D(80, kernel_size=(3, 3), strides=(2, 2), padding='same')(x)\n",
    "x = ResidualModule(x, 80)\n",
    "x = ResidualModule(x, 80)\n",
    "x = ResidualModule(x, 80)\n",
    "\n",
    "# Output\n",
    "x = tf.keras.layers.Flatten()(x)\n",
    "x = tf.keras.layers.Dropout(0.5)(x)\n",
    "outputs = tf.keras.layers.Dense(num_classes, activation='softmax')(x)\n",
    "\n",
    "model = tf.keras.Model(inputs=inputs, outputs=outputs, name=\"resnet\")\n",
    "model.compile(loss='sparse_categorical_crossentropy',\n",
    "              optimizer='Adam',\n",
    "              metrics=['accuracy'])\n",
    "\n",
    "print(model.summary())\n"
   ]
  },
  {
   "cell_type": "code",
   "execution_count": 4,
   "id": "f279fdb6",
   "metadata": {},
   "outputs": [
    {
     "name": "stdout",
     "output_type": "stream",
     "text": [
      "Epoch 1/50\n",
      "196/196 [==============================] - 16s 49ms/step - loss: 7.5931 - accuracy: 0.0149 - val_loss: 4.5028 - val_accuracy: 0.0236\n",
      "Epoch 2/50\n",
      "196/196 [==============================] - 9s 44ms/step - loss: 4.3501 - accuracy: 0.0408 - val_loss: 4.0310 - val_accuracy: 0.0816\n",
      "Epoch 3/50\n",
      "196/196 [==============================] - 9s 44ms/step - loss: 3.9496 - accuracy: 0.0945 - val_loss: 3.7303 - val_accuracy: 0.1367\n",
      "Epoch 4/50\n",
      "196/196 [==============================] - 9s 44ms/step - loss: 3.7057 - accuracy: 0.1336 - val_loss: 3.5142 - val_accuracy: 0.1719\n",
      "Epoch 5/50\n",
      "196/196 [==============================] - 9s 45ms/step - loss: 3.5284 - accuracy: 0.1648 - val_loss: 3.4339 - val_accuracy: 0.1945\n",
      "Epoch 6/50\n",
      "196/196 [==============================] - 9s 45ms/step - loss: 3.3711 - accuracy: 0.1942 - val_loss: 3.3406 - val_accuracy: 0.2093\n",
      "Epoch 7/50\n",
      "196/196 [==============================] - 9s 46ms/step - loss: 3.2552 - accuracy: 0.2151 - val_loss: 3.2073 - val_accuracy: 0.2311\n",
      "Epoch 8/50\n",
      "196/196 [==============================] - 9s 45ms/step - loss: 3.1276 - accuracy: 0.2393 - val_loss: 3.1477 - val_accuracy: 0.2448\n",
      "Epoch 9/50\n",
      "196/196 [==============================] - 9s 44ms/step - loss: 3.0158 - accuracy: 0.2598 - val_loss: 3.0351 - val_accuracy: 0.2698\n",
      "Epoch 10/50\n",
      "196/196 [==============================] - 9s 44ms/step - loss: 2.9149 - accuracy: 0.2785 - val_loss: 2.9736 - val_accuracy: 0.2726\n",
      "Epoch 11/50\n",
      "196/196 [==============================] - 9s 44ms/step - loss: 2.8233 - accuracy: 0.2966 - val_loss: 2.9439 - val_accuracy: 0.2808\n",
      "Epoch 12/50\n",
      "196/196 [==============================] - 9s 44ms/step - loss: 2.7275 - accuracy: 0.3143 - val_loss: 2.9153 - val_accuracy: 0.2881\n",
      "Epoch 13/50\n",
      "196/196 [==============================] - 9s 44ms/step - loss: 2.6386 - accuracy: 0.3326 - val_loss: 2.9368 - val_accuracy: 0.2875\n",
      "Epoch 14/50\n",
      "196/196 [==============================] - 9s 44ms/step - loss: 2.5638 - accuracy: 0.3478 - val_loss: 2.8566 - val_accuracy: 0.3008\n",
      "Epoch 15/50\n",
      "196/196 [==============================] - 9s 44ms/step - loss: 2.4683 - accuracy: 0.3648 - val_loss: 2.8998 - val_accuracy: 0.2916\n",
      "Epoch 16/50\n",
      "196/196 [==============================] - 9s 44ms/step - loss: 2.4038 - accuracy: 0.3802 - val_loss: 2.8342 - val_accuracy: 0.3078\n",
      "Epoch 17/50\n",
      "196/196 [==============================] - 9s 44ms/step - loss: 2.3087 - accuracy: 0.3981 - val_loss: 2.8238 - val_accuracy: 0.3073\n",
      "Epoch 18/50\n",
      "196/196 [==============================] - 9s 44ms/step - loss: 2.2358 - accuracy: 0.4154 - val_loss: 2.8130 - val_accuracy: 0.3165\n",
      "Epoch 19/50\n",
      "196/196 [==============================] - 9s 44ms/step - loss: 2.1611 - accuracy: 0.4282 - val_loss: 2.8470 - val_accuracy: 0.3180\n",
      "Epoch 20/50\n",
      "196/196 [==============================] - 9s 44ms/step - loss: 2.1061 - accuracy: 0.4405 - val_loss: 2.8227 - val_accuracy: 0.3190\n",
      "Epoch 21/50\n",
      "196/196 [==============================] - 9s 44ms/step - loss: 2.0388 - accuracy: 0.4568 - val_loss: 2.8402 - val_accuracy: 0.3231\n",
      "Epoch 22/50\n",
      "196/196 [==============================] - 9s 44ms/step - loss: 1.9375 - accuracy: 0.4754 - val_loss: 2.8391 - val_accuracy: 0.3221\n",
      "Epoch 23/50\n",
      "196/196 [==============================] - 9s 44ms/step - loss: 1.8827 - accuracy: 0.4890 - val_loss: 2.8825 - val_accuracy: 0.3222\n"
     ]
    }
   ],
   "source": [
    "#%% Train model\n",
    "\n",
    "batch_size = 256\n",
    "epochs = 50\n",
    "\n",
    "earlystop = tf.keras.callbacks.EarlyStopping(\n",
    "    monitor='val_loss', \n",
    "    patience=5, \n",
    "    restore_best_weights=True\n",
    ")\n",
    "\n",
    "history = model.fit(x_train, \n",
    "                    y_train, \n",
    "                    batch_size=batch_size, \n",
    "                    epochs=epochs, \n",
    "                    callbacks=[earlystop],\n",
    "                    use_multiprocessing=True,\n",
    "                    validation_data=(x_test, y_test))"
   ]
  },
  {
   "cell_type": "code",
   "execution_count": 5,
   "id": "ceb093e0",
   "metadata": {},
   "outputs": [
    {
     "data": {
      "text/plain": [
       "<matplotlib.legend.Legend at 0x154f21f0880>"
      ]
     },
     "execution_count": 5,
     "metadata": {},
     "output_type": "execute_result"
    },
    {
     "data": {
      "image/png": "[encoded data removed]",
      "text/plain": [
       "<Figure size 432x288 with 2 Axes>"
      ]
     },
     "metadata": {
      "needs_background": "light"
     },
     "output_type": "display_data"
    }
   ],
   "source": [
    "#%% Model visualization\n",
    "plt.figure()\n",
    "plt.subplot(2, 1, 1)\n",
    "plt.grid()\n",
    "plt.plot(history.history['loss'], '--x')\n",
    "plt.plot(history.history['val_loss'], '--x')\n",
    "plt.legend(['Train', 'Validation'])\n",
    "plt.subplot(2, 1, 2)\n",
    "plt.grid()\n",
    "plt.plot(history.history['accuracy'], '--x')\n",
    "plt.plot(history.history['val_accuracy'], '--x')\n",
    "plt.legend(['Train', 'Validation'])"
   ]
  },
  {
   "cell_type": "code",
   "execution_count": 6,
   "id": "07327d37",
   "metadata": {},
   "outputs": [
    {
     "name": "stdout",
     "output_type": "stream",
     "text": [
      "313/313 [==============================] - 2s 5ms/step - loss: 2.8130 - accuracy: 0.3165\n",
      "Test accuracy: 31.65%\n"
     ]
    }
   ],
   "source": [
    "#%% Model evaluation\n",
    "result = model.evaluate(x_test, y_test)\n",
    "print(\"Test accuracy: {:.2f}%\".format(result[1]*100))"
   ]
  },
  {
   "cell_type": "code",
   "execution_count": null,
   "id": "29811302",
   "metadata": {},
   "outputs": [],
   "source": []
  }
 ],
 "metadata": {
  "kernelspec": {
   "display_name": "Python 3 (ipykernel)",
   "language": "python",
   "name": "python3"
  },
  "language_info": {
   "codemirror_mode": {
    "name": "ipython",
    "version": 3
   },
   "file_extension": ".py",
   "mimetype": "text/x-python",
   "name": "python",
   "nbconvert_exporter": "python",
   "pygments_lexer": "ipython3",
   "version": "3.9.7"
  }
 },
 "nbformat": 4,
 "nbformat_minor": 5
}
