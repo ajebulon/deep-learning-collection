{
 "cells": [
  {
   "cell_type": "code",
   "execution_count": 1,
   "id": "01df2228",
   "metadata": {},
   "outputs": [],
   "source": [
    "import tensorflow as tf\n",
    "import numpy as np\n",
    "import matplotlib.pyplot as plt"
   ]
  },
  {
   "cell_type": "code",
   "execution_count": 2,
   "id": "f988a8fb",
   "metadata": {},
   "outputs": [],
   "source": [
    "#%% Prepare dataset\n",
    "\n",
    "# Load dataset\n",
    "(x_train, y_train), (x_test, y_test) = tf.keras.datasets.cifar100.load_data()\n",
    "\n",
    "# Model / data parameters\n",
    "num_classes = len(np.unique(y_train))\n",
    "input_shape = x_train.shape[1::]"
   ]
  },
  {
   "cell_type": "code",
   "execution_count": 3,
   "id": "8cf28d15",
   "metadata": {},
   "outputs": [
    {
     "name": "stdout",
     "output_type": "stream",
     "text": [
      "Model: \"alexnet\"\n",
      "_________________________________________________________________\n",
      "Layer (type)                 Output Shape              Param #   \n",
      "=================================================================\n",
      "input_1 (InputLayer)         [(None, 32, 32, 3)]       0         \n",
      "_________________________________________________________________\n",
      "conv2d (Conv2D)              (None, 32, 32, 24)        672       \n",
      "_________________________________________________________________\n",
      "max_pooling2d (MaxPooling2D) (None, 16, 16, 24)        0         \n",
      "_________________________________________________________________\n",
      "conv2d_1 (Conv2D)            (None, 16, 16, 64)        38464     \n",
      "_________________________________________________________________\n",
      "max_pooling2d_1 (MaxPooling2 (None, 8, 8, 64)          0         \n",
      "_________________________________________________________________\n",
      "conv2d_2 (Conv2D)            (None, 8, 8, 96)          55392     \n",
      "_________________________________________________________________\n",
      "conv2d_3 (Conv2D)            (None, 8, 8, 96)          83040     \n",
      "_________________________________________________________________\n",
      "conv2d_4 (Conv2D)            (None, 8, 8, 64)          55360     \n",
      "_________________________________________________________________\n",
      "max_pooling2d_2 (MaxPooling2 (None, 4, 4, 64)          0         \n",
      "_________________________________________________________________\n",
      "flatten (Flatten)            (None, 1024)              0         \n",
      "_________________________________________________________________\n",
      "dense (Dense)                (None, 512)               524800    \n",
      "_________________________________________________________________\n",
      "dropout (Dropout)            (None, 512)               0         \n",
      "_________________________________________________________________\n",
      "dense_1 (Dense)              (None, 512)               262656    \n",
      "_________________________________________________________________\n",
      "dropout_1 (Dropout)          (None, 512)               0         \n",
      "_________________________________________________________________\n",
      "dense_2 (Dense)              (None, 100)               51300     \n",
      "=================================================================\n",
      "Total params: 1,071,684\n",
      "Trainable params: 1,071,684\n",
      "Non-trainable params: 0\n",
      "_________________________________________________________________\n",
      "None\n"
     ]
    }
   ],
   "source": [
    "#%% Create model\n",
    "inputs = tf.keras.Input(shape=input_shape)\n",
    "x = tf.keras.layers.Conv2D(filters=24, kernel_size=(3, 3), activation='relu', padding='same', input_shape=input_shape)(inputs)\n",
    "x = tf.keras.layers.MaxPool2D(pool_size=(2, 2))(x)\n",
    "x = tf.keras.layers.Conv2D(filters=64, kernel_size=(5, 5), activation='relu', padding='same')(x)\n",
    "x = tf.keras.layers.MaxPool2D(pool_size=(2, 2))(x)\n",
    "x = tf.keras.layers.Conv2D(filters=96, kernel_size=(3, 3), activation='relu', padding='same')(x)\n",
    "x = tf.keras.layers.Conv2D(filters=96, kernel_size=(3, 3), activation='relu', padding='same')(x)\n",
    "x = tf.keras.layers.Conv2D(filters=64, kernel_size=(3, 3), activation='relu', padding='same')(x)\n",
    "x = tf.keras.layers.MaxPool2D(pool_size=(2, 2))(x)\n",
    "x = tf.keras.layers.Flatten()(x)\n",
    "x = tf.keras.layers.Dense(512, activation='relu')(x)\n",
    "x = tf.keras.layers.Dropout(0.4)(x)\n",
    "x = tf.keras.layers.Dense(512, activation='relu')(x)\n",
    "x = tf.keras.layers.Dropout(0.4)(x)\n",
    "outputs = tf.keras.layers.Dense(num_classes, activation='softmax')(x)\n",
    "\n",
    "model = tf.keras.Model(inputs=inputs, outputs=outputs, name=\"alexnet\")\n",
    "\n",
    "model.compile(\n",
    "    loss='sparse_categorical_crossentropy',\n",
    "    optimizer='Adam',\n",
    "    metrics=['accuracy']\n",
    ")\n",
    "\n",
    "\n",
    "print(model.summary())"
   ]
  },
  {
   "cell_type": "code",
   "execution_count": 4,
   "id": "374584ac",
   "metadata": {},
   "outputs": [
    {
     "name": "stdout",
     "output_type": "stream",
     "text": [
      "Epoch 1/50\n",
      "196/196 [==============================] - 9s 23ms/step - loss: 4.4103 - accuracy: 0.0428 - val_loss: 3.8590 - val_accuracy: 0.1103\n",
      "Epoch 2/50\n",
      "196/196 [==============================] - 4s 18ms/step - loss: 3.7536 - accuracy: 0.1206 - val_loss: 3.4177 - val_accuracy: 0.1820\n",
      "Epoch 3/50\n",
      "196/196 [==============================] - 4s 18ms/step - loss: 3.4521 - accuracy: 0.1686 - val_loss: 3.2763 - val_accuracy: 0.2133\n",
      "Epoch 4/50\n",
      "196/196 [==============================] - 4s 18ms/step - loss: 3.2407 - accuracy: 0.2088 - val_loss: 3.0902 - val_accuracy: 0.2500\n",
      "Epoch 5/50\n",
      "196/196 [==============================] - 4s 18ms/step - loss: 3.0535 - accuracy: 0.2422 - val_loss: 2.9554 - val_accuracy: 0.2727\n",
      "Epoch 6/50\n",
      "196/196 [==============================] - 4s 18ms/step - loss: 2.9055 - accuracy: 0.2718 - val_loss: 2.8393 - val_accuracy: 0.2969\n",
      "Epoch 7/50\n",
      "196/196 [==============================] - 4s 18ms/step - loss: 2.7841 - accuracy: 0.2973 - val_loss: 2.7332 - val_accuracy: 0.3176\n",
      "Epoch 8/50\n",
      "196/196 [==============================] - 4s 18ms/step - loss: 2.6699 - accuracy: 0.3192 - val_loss: 2.7131 - val_accuracy: 0.3226\n",
      "Epoch 9/50\n",
      "196/196 [==============================] - 4s 18ms/step - loss: 2.5633 - accuracy: 0.3388 - val_loss: 2.7252 - val_accuracy: 0.3187\n",
      "Epoch 10/50\n",
      "196/196 [==============================] - 4s 18ms/step - loss: 2.4661 - accuracy: 0.3591 - val_loss: 2.6110 - val_accuracy: 0.3443\n",
      "Epoch 11/50\n",
      "196/196 [==============================] - 4s 18ms/step - loss: 2.3763 - accuracy: 0.3768 - val_loss: 2.5985 - val_accuracy: 0.3459\n",
      "Epoch 12/50\n",
      "196/196 [==============================] - 4s 18ms/step - loss: 2.3148 - accuracy: 0.3884 - val_loss: 2.5612 - val_accuracy: 0.3595\n",
      "Epoch 13/50\n",
      "196/196 [==============================] - 4s 18ms/step - loss: 2.2128 - accuracy: 0.4122 - val_loss: 2.5414 - val_accuracy: 0.3579\n",
      "Epoch 14/50\n",
      "196/196 [==============================] - 4s 18ms/step - loss: 2.1309 - accuracy: 0.4288 - val_loss: 2.5634 - val_accuracy: 0.3611\n",
      "Epoch 15/50\n",
      "196/196 [==============================] - 4s 18ms/step - loss: 2.0721 - accuracy: 0.4405 - val_loss: 2.5742 - val_accuracy: 0.3560\n",
      "Epoch 16/50\n",
      "196/196 [==============================] - 4s 18ms/step - loss: 1.9852 - accuracy: 0.4577 - val_loss: 2.5625 - val_accuracy: 0.3578\n",
      "Epoch 17/50\n",
      "196/196 [==============================] - 4s 18ms/step - loss: 1.9441 - accuracy: 0.4701 - val_loss: 2.5874 - val_accuracy: 0.3640\n",
      "Epoch 18/50\n",
      "196/196 [==============================] - 4s 18ms/step - loss: 1.8854 - accuracy: 0.4828 - val_loss: 2.5461 - val_accuracy: 0.3671\n"
     ]
    }
   ],
   "source": [
    "#%% Train model\n",
    "\n",
    "batch_size = 256\n",
    "epochs = 50\n",
    "\n",
    "earlystop = tf.keras.callbacks.EarlyStopping(\n",
    "    monitor='val_loss', \n",
    "    patience=5, \n",
    "    restore_best_weights=True\n",
    ")\n",
    "\n",
    "history = model.fit(x_train, \n",
    "                    y_train, \n",
    "                    batch_size=batch_size, \n",
    "                    epochs=epochs, \n",
    "                    callbacks=[earlystop],\n",
    "                    use_multiprocessing=True,\n",
    "                    validation_data=(x_test, y_test))"
   ]
  },
  {
   "cell_type": "code",
   "execution_count": 5,
   "id": "5255345f",
   "metadata": {},
   "outputs": [
    {
     "data": {
      "text/plain": [
       "<matplotlib.legend.Legend at 0x2a00097c4f0>"
      ]
     },
     "execution_count": 5,
     "metadata": {},
     "output_type": "execute_result"
    },
    {
     "data": {
      "image/png": "[encoded data removed]",
      "text/plain": [
       "<Figure size 432x288 with 2 Axes>"
      ]
     },
     "metadata": {
      "needs_background": "light"
     },
     "output_type": "display_data"
    }
   ],
   "source": [
    "#%% Model visualization\n",
    "plt.figure()\n",
    "plt.subplot(2, 1, 1)\n",
    "plt.grid()\n",
    "plt.plot(history.history['loss'], '--x')\n",
    "plt.plot(history.history['val_loss'], '--x')\n",
    "plt.legend(['Train', 'Validation'])\n",
    "plt.subplot(2, 1, 2)\n",
    "plt.grid()\n",
    "plt.plot(history.history['accuracy'], '--x')\n",
    "plt.plot(history.history['val_accuracy'], '--x')\n",
    "plt.legend(['Train', 'Validation'])"
   ]
  },
  {
   "cell_type": "code",
   "execution_count": 6,
   "id": "4e9eab44",
   "metadata": {},
   "outputs": [
    {
     "name": "stdout",
     "output_type": "stream",
     "text": [
      "313/313 [==============================] - 1s 3ms/step - loss: 2.5414 - accuracy: 0.3579\n",
      "Test accuracy: 35.79%\n"
     ]
    }
   ],
   "source": [
    "#%% Model evaluation\n",
    "result = model.evaluate(x_test, y_test)\n",
    "print(\"Test accuracy: {:.2f}%\".format(result[1]*100))"
   ]
  },
  {
   "cell_type": "code",
   "execution_count": null,
   "id": "54ac6b3e",
   "metadata": {},
   "outputs": [],
   "source": []
  }
 ],
 "metadata": {
  "kernelspec": {
   "display_name": "Python 3 (ipykernel)",
   "language": "python",
   "name": "python3"
  },
  "language_info": {
   "codemirror_mode": {
    "name": "ipython",
    "version": 3
   },
   "file_extension": ".py",
   "mimetype": "text/x-python",
   "name": "python",
   "nbconvert_exporter": "python",
   "pygments_lexer": "ipython3",
   "version": "3.9.7"
  }
 },
 "nbformat": 4,
 "nbformat_minor": 5
}
