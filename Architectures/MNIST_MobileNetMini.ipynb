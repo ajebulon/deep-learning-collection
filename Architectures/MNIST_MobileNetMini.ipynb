{
 "cells": [
  {
   "cell_type": "code",
   "execution_count": 1,
   "id": "a0fa6421",
   "metadata": {},
   "outputs": [],
   "source": [
    "import tensorflow as tf\n",
    "import numpy as np\n",
    "import matplotlib.pyplot as plt"
   ]
  },
  {
   "cell_type": "code",
   "execution_count": 2,
   "id": "1b50607f",
   "metadata": {},
   "outputs": [],
   "source": [
    "#%% Prepare dataset\n",
    "\n",
    "# Load dataset\n",
    "(x_train, y_train), (x_test, y_test) = tf.keras.datasets.mnist.load_data()\n",
    "\n",
    "# Reshape\n",
    "x_train = np.expand_dims(x_train, axis=-1)\n",
    "x_test = np.expand_dims(x_test, axis=-1)\n",
    "\n",
    "# Model / data parameters\n",
    "num_classes = len(np.unique(y_train))\n",
    "input_shape = x_train.shape[1::]"
   ]
  },
  {
   "cell_type": "code",
   "execution_count": 3,
   "id": "538fd2c5",
   "metadata": {},
   "outputs": [
    {
     "name": "stdout",
     "output_type": "stream",
     "text": [
      "Model: \"mobilenet\"\n",
      "_________________________________________________________________\n",
      "Layer (type)                 Output Shape              Param #   \n",
      "=================================================================\n",
      "input_1 (InputLayer)         [(None, 28, 28, 1)]       0         \n",
      "_________________________________________________________________\n",
      "depthwise_conv2d (DepthwiseC (None, 28, 28, 1)         10        \n",
      "_________________________________________________________________\n",
      "conv2d (Conv2D)              (None, 28, 28, 24)        48        \n",
      "_________________________________________________________________\n",
      "max_pooling2d (MaxPooling2D) (None, 14, 14, 24)        0         \n",
      "_________________________________________________________________\n",
      "depthwise_conv2d_1 (Depthwis (None, 14, 14, 24)        624       \n",
      "_________________________________________________________________\n",
      "conv2d_1 (Conv2D)            (None, 14, 14, 64)        1600      \n",
      "_________________________________________________________________\n",
      "max_pooling2d_1 (MaxPooling2 (None, 7, 7, 64)          0         \n",
      "_________________________________________________________________\n",
      "depthwise_conv2d_2 (Depthwis (None, 7, 7, 64)          640       \n",
      "_________________________________________________________________\n",
      "conv2d_2 (Conv2D)            (None, 7, 7, 96)          6240      \n",
      "_________________________________________________________________\n",
      "depthwise_conv2d_3 (Depthwis (None, 7, 7, 96)          960       \n",
      "_________________________________________________________________\n",
      "conv2d_3 (Conv2D)            (None, 7, 7, 96)          9312      \n",
      "_________________________________________________________________\n",
      "depthwise_conv2d_4 (Depthwis (None, 7, 7, 96)          960       \n",
      "_________________________________________________________________\n",
      "conv2d_4 (Conv2D)            (None, 7, 7, 64)          6208      \n",
      "_________________________________________________________________\n",
      "max_pooling2d_2 (MaxPooling2 (None, 3, 3, 64)          0         \n",
      "_________________________________________________________________\n",
      "depthwise_conv2d_5 (Depthwis (None, 1, 1, 64)          640       \n",
      "_________________________________________________________________\n",
      "conv2d_5 (Conv2D)            (None, 1, 1, 512)         33280     \n",
      "_________________________________________________________________\n",
      "dropout (Dropout)            (None, 1, 1, 512)         0         \n",
      "_________________________________________________________________\n",
      "depthwise_conv2d_6 (Depthwis (None, 1, 1, 512)         1024      \n",
      "_________________________________________________________________\n",
      "conv2d_6 (Conv2D)            (None, 1, 1, 512)         262656    \n",
      "_________________________________________________________________\n",
      "dropout_1 (Dropout)          (None, 1, 1, 512)         0         \n",
      "_________________________________________________________________\n",
      "flatten (Flatten)            (None, 512)               0         \n",
      "_________________________________________________________________\n",
      "dense (Dense)                (None, 10)                5130      \n",
      "=================================================================\n",
      "Total params: 329,332\n",
      "Trainable params: 329,332\n",
      "Non-trainable params: 0\n",
      "_________________________________________________________________\n",
      "None\n"
     ]
    },
    {
     "data": {
      "image/png": "[encoded data removed]",
      "text/plain": [
       "<Figure size 432x288 with 1 Axes>"
      ]
     },
     "metadata": {
      "needs_background": "light"
     },
     "output_type": "display_data"
    }
   ],
   "source": [
    "#%% Create model\n",
    "inputs = tf.keras.Input(shape=input_shape)\n",
    "\n",
    "# Depthwise separable convolution\n",
    "def MobileNetConv2D(inputs, kernel_size, filters, padding): \n",
    "    x = tf.keras.layers.DepthwiseConv2D(kernel_size=kernel_size, padding=padding)(inputs) # Convolution per channel\n",
    "    x = tf.keras.layers.Conv2D(filters=filters, kernel_size=(1, 1), activation='relu')(x) # Point-wise convolution (1x1)\n",
    "    return x\n",
    "\n",
    "x = MobileNetConv2D(inputs, (3, 3), 24, 'same')\n",
    "x = tf.keras.layers.MaxPool2D(pool_size=(2, 2))(x)\n",
    "x = MobileNetConv2D(x, (5, 5), 64, 'same')\n",
    "x = tf.keras.layers.MaxPool2D(pool_size=(2, 2))(x)\n",
    "x = MobileNetConv2D(x, (3, 3), 96, 'same')\n",
    "x = MobileNetConv2D(x, (3, 3), 96, 'same')\n",
    "x = MobileNetConv2D(x, (3, 3), 64, 'same')\n",
    "x = tf.keras.layers.MaxPool2D(pool_size=(2, 2))(x)\n",
    "x = MobileNetConv2D(x, (3, 3), 512, 'valid')\n",
    "x = tf.keras.layers.Dropout(0.4)(x)\n",
    "x = MobileNetConv2D(x, (1, 1), 512, 'same')\n",
    "x = tf.keras.layers.Dropout(0.4)(x)\n",
    "x = tf.keras.layers.Flatten()(x)\n",
    "outputs = tf.keras.layers.Dense(num_classes, activation='softmax')(x)\n",
    "\n",
    "model = tf.keras.Model(inputs=inputs, outputs=outputs, name=\"mobilenet\")\n",
    "\n",
    "dot_img_file = 'mobilenetmini.png'\n",
    "tf.keras.utils.plot_model(model, to_file=dot_img_file, show_shapes=True)\n",
    "plt.figure()\n",
    "plt.imshow(plt.imread(dot_img_file))\n",
    "\n",
    "model.compile(\n",
    "    loss='sparse_categorical_crossentropy',\n",
    "    optimizer='Adam',\n",
    "    metrics=['accuracy']\n",
    ")\n",
    "\n",
    "\n",
    "print(model.summary())"
   ]
  },
  {
   "cell_type": "code",
   "execution_count": 4,
   "id": "32db877f",
   "metadata": {},
   "outputs": [
    {
     "name": "stdout",
     "output_type": "stream",
     "text": [
      "Epoch 1/50\n",
      "235/235 [==============================] - 10s 19ms/step - loss: 1.1547 - accuracy: 0.5806 - val_loss: 0.2061 - val_accuracy: 0.9348\n",
      "Epoch 2/50\n",
      "235/235 [==============================] - 3s 14ms/step - loss: 0.1866 - accuracy: 0.9416 - val_loss: 0.1122 - val_accuracy: 0.9619\n",
      "Epoch 3/50\n",
      "235/235 [==============================] - 3s 14ms/step - loss: 0.1231 - accuracy: 0.9612 - val_loss: 0.0799 - val_accuracy: 0.9727\n",
      "Epoch 4/50\n",
      "235/235 [==============================] - 3s 14ms/step - loss: 0.0926 - accuracy: 0.9714 - val_loss: 0.0645 - val_accuracy: 0.9804\n",
      "Epoch 5/50\n",
      "235/235 [==============================] - 4s 15ms/step - loss: 0.0742 - accuracy: 0.9767 - val_loss: 0.0569 - val_accuracy: 0.9809\n",
      "Epoch 6/50\n",
      "235/235 [==============================] - 3s 14ms/step - loss: 0.0677 - accuracy: 0.9790 - val_loss: 0.0493 - val_accuracy: 0.9840\n",
      "Epoch 7/50\n",
      "235/235 [==============================] - 3s 14ms/step - loss: 0.0581 - accuracy: 0.9822 - val_loss: 0.0470 - val_accuracy: 0.9840\n",
      "Epoch 8/50\n",
      "235/235 [==============================] - 3s 14ms/step - loss: 0.0488 - accuracy: 0.9844 - val_loss: 0.0426 - val_accuracy: 0.9861\n",
      "Epoch 9/50\n",
      "235/235 [==============================] - 3s 14ms/step - loss: 0.0454 - accuracy: 0.9862 - val_loss: 0.0493 - val_accuracy: 0.9842\n",
      "Epoch 10/50\n",
      "235/235 [==============================] - 3s 14ms/step - loss: 0.0405 - accuracy: 0.9870 - val_loss: 0.0399 - val_accuracy: 0.9863\n",
      "Epoch 11/50\n",
      "235/235 [==============================] - 3s 15ms/step - loss: 0.0393 - accuracy: 0.9876 - val_loss: 0.0434 - val_accuracy: 0.9851\n",
      "Epoch 12/50\n",
      "235/235 [==============================] - 4s 16ms/step - loss: 0.0360 - accuracy: 0.9887 - val_loss: 0.0452 - val_accuracy: 0.9854\n",
      "Epoch 13/50\n",
      "235/235 [==============================] - 3s 15ms/step - loss: 0.0320 - accuracy: 0.9898 - val_loss: 0.0417 - val_accuracy: 0.9873\n",
      "Epoch 14/50\n",
      "235/235 [==============================] - 4s 15ms/step - loss: 0.0288 - accuracy: 0.9909 - val_loss: 0.0423 - val_accuracy: 0.9862\n",
      "Epoch 15/50\n",
      "235/235 [==============================] - 3s 15ms/step - loss: 0.0280 - accuracy: 0.9908 - val_loss: 0.0453 - val_accuracy: 0.9869\n"
     ]
    }
   ],
   "source": [
    "#%% Train model\n",
    "\n",
    "batch_size = 256\n",
    "epochs = 50\n",
    "\n",
    "earlystop = tf.keras.callbacks.EarlyStopping(\n",
    "    monitor='val_loss', \n",
    "    patience=5, \n",
    "    restore_best_weights=True\n",
    ")\n",
    "\n",
    "history = model.fit(x_train, \n",
    "                    y_train, \n",
    "                    batch_size=batch_size, \n",
    "                    epochs=epochs, \n",
    "                    callbacks=[earlystop],\n",
    "                    use_multiprocessing=True,\n",
    "                    validation_data=(x_test, y_test))"
   ]
  },
  {
   "cell_type": "code",
   "execution_count": 5,
   "id": "ca70350c",
   "metadata": {},
   "outputs": [
    {
     "data": {
      "text/plain": [
       "<matplotlib.legend.Legend at 0x21c47a25550>"
      ]
     },
     "execution_count": 5,
     "metadata": {},
     "output_type": "execute_result"
    },
    {
     "data": {
      "image/png": "[encoded data removed]",
      "text/plain": [
       "<Figure size 432x288 with 2 Axes>"
      ]
     },
     "metadata": {
      "needs_background": "light"
     },
     "output_type": "display_data"
    }
   ],
   "source": [
    "#%% Model visualization\n",
    "plt.figure()\n",
    "plt.subplot(2, 1, 1)\n",
    "plt.grid()\n",
    "plt.plot(history.history['loss'], '--x')\n",
    "plt.plot(history.history['val_loss'], '--x')\n",
    "plt.legend(['Train', 'Validation'])\n",
    "plt.subplot(2, 1, 2)\n",
    "plt.grid()\n",
    "plt.plot(history.history['accuracy'], '--x')\n",
    "plt.plot(history.history['val_accuracy'], '--x')\n",
    "plt.legend(['Train', 'Validation'])"
   ]
  },
  {
   "cell_type": "code",
   "execution_count": 6,
   "id": "0a5884d3",
   "metadata": {},
   "outputs": [
    {
     "name": "stdout",
     "output_type": "stream",
     "text": [
      "313/313 [==============================] - 2s 4ms/step - loss: 0.0399 - accuracy: 0.9863\n",
      "Test accuracy: 98.63%\n"
     ]
    }
   ],
   "source": [
    "#%% Model evaluation\n",
    "result = model.evaluate(x_test, y_test)\n",
    "print(\"Test accuracy: {:.2f}%\".format(result[1]*100))"
   ]
  },
  {
   "cell_type": "code",
   "execution_count": null,
   "id": "0430c3bc",
   "metadata": {},
   "outputs": [],
   "source": []
  }
 ],
 "metadata": {
  "kernelspec": {
   "display_name": "Python 3 (ipykernel)",
   "language": "python",
   "name": "python3"
  },
  "language_info": {
   "codemirror_mode": {
    "name": "ipython",
    "version": 3
   },
   "file_extension": ".py",
   "mimetype": "text/x-python",
   "name": "python",
   "nbconvert_exporter": "python",
   "pygments_lexer": "ipython3",
   "version": "3.8.12"
  }
 },
 "nbformat": 4,
 "nbformat_minor": 5
}
